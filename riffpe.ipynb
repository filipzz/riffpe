{
 "cells": [
  {
   "cell_type": "code",
   "execution_count": 1,
   "metadata": {},
   "outputs": [],
   "source": [
    "from riffpe.riffpe import Riffpe\n",
    "from riffpe.test_riffpe import *"
   ]
  },
  {
   "cell_type": "markdown",
   "metadata": {},
   "source": [
    "Set parameters:\n",
    "\n",
    "- **n** is the base $Z_n$\n",
    "- **l** is the length of a message\n",
    "\n",
    "Now $m \\in \\mathcal{M} =  (Z_n)^l$"
   ]
  },
  {
   "cell_type": "code",
   "execution_count": 24,
   "metadata": {},
   "outputs": [],
   "source": [
    "n = 10\n",
    "l = 2\n",
    "key = \"abcabc\"\n",
    "tag = \"abcdabcd\""
   ]
  },
  {
   "cell_type": "markdown",
   "metadata": {},
   "source": [
    "Instantiate\n",
    "\n",
    "Generate a random messsage from $\\mathcal{M}$"
   ]
  },
  {
   "cell_type": "code",
   "execution_count": 3,
   "metadata": {},
   "outputs": [],
   "source": [
    "c = Riffpe(n, l)\n",
    "\n",
    "message = random_message(n, l)"
   ]
  },
  {
   "cell_type": "markdown",
   "metadata": {},
   "source": [
    "Encrypt & decrypt generated message & test if decryption is correct"
   ]
  },
  {
   "cell_type": "code",
   "execution_count": 4,
   "metadata": {},
   "outputs": [
    {
     "name": "stdout",
     "output_type": "stream",
     "text": [
      "[4, 1]\n",
      "[8, 7]\n",
      "[4, 1]\n",
      "True\n"
     ]
    }
   ],
   "source": [
    "enc = c.enc(key, tag, message)\n",
    "\n",
    "dec = c.dec(key, tag, enc)\n",
    "\n",
    "print(\"%s\\n%s\\n%s\" % (message, enc, dec))\n",
    "\n",
    "print(message == dec)"
   ]
  },
  {
   "cell_type": "code",
   "execution_count": 9,
   "metadata": {},
   "outputs": [
    {
     "name": "stdout",
     "output_type": "stream",
     "text": [
      "Generated parameters: 20 9\n",
      "Message:\t[15, 14, 12, 9, 1, 7, 2, 17, 2]\n",
      "Decrypted:\t[15, 14, 12, 9, 1, 7, 2, 17, 2]\n"
     ]
    }
   ],
   "source": [
    "test_enc() # generates a random instance & message and & encrypts & decrypts"
   ]
  },
  {
   "cell_type": "code",
   "execution_count": 10,
   "metadata": {},
   "outputs": [
    {
     "data": {
      "text/plain": [
       "[8, 9, 6, 3]"
      ]
     },
     "execution_count": 10,
     "metadata": {},
     "output_type": "execute_result"
    }
   ],
   "source": [
    "random_message(10, 4)"
   ]
  },
  {
   "cell_type": "code",
   "execution_count": 11,
   "metadata": {},
   "outputs": [
    {
     "name": "stdout",
     "output_type": "stream",
     "text": [
      "Generated parameters: 9986 9\n",
      "Testing for message: [51, 4393, 6171, 9491, 237, 5679, 7343, 9200, 5088]\n",
      "51 3288 51\n",
      "4393 5228 4393\n",
      "6171 8955 6171\n",
      "9491 3895 9491\n",
      "237 4674 237\n",
      "5679 9862 5679\n",
      "7343 5165 7343\n",
      "9200 7636 9200\n",
      "5088 685 5088\n"
     ]
    }
   ],
   "source": [
    "test_rs()"
   ]
  },
  {
   "cell_type": "code",
   "execution_count": 34,
   "metadata": {},
   "outputs": [
    {
     "name": "stdout",
     "output_type": "stream",
     "text": [
      "[0, 0]  ->  [9, 0]\n",
      "[0, 1]  ->  [2, 3]\n",
      "[0, 2]  ->  [0, 5]\n",
      "[0, 3]  ->  [7, 4]\n",
      "[0, 4]  ->  [6, 8]\n",
      "[0, 5]  ->  [5, 0]\n",
      "[0, 6]  ->  [7, 7]\n",
      "[0, 7]  ->  [9, 7]\n",
      "[0, 8]  ->  [1, 9]\n",
      "[0, 9]  ->  [3, 2]\n",
      "[1, 0]  ->  [0, 3]\n",
      "[1, 1]  ->  [3, 4]\n",
      "[1, 2]  ->  [1, 3]\n",
      "[1, 3]  ->  [8, 9]\n",
      "[1, 4]  ->  [7, 5]\n",
      "[1, 5]  ->  [6, 9]\n",
      "[1, 6]  ->  [8, 2]\n",
      "[1, 7]  ->  [0, 0]\n",
      "[1, 8]  ->  [2, 0]\n",
      "[1, 9]  ->  [4, 0]\n",
      "[2, 0]  ->  [1, 1]\n",
      "[2, 1]  ->  [4, 2]\n",
      "[2, 2]  ->  [2, 4]\n",
      "[2, 3]  ->  [9, 3]\n",
      "[2, 4]  ->  [8, 0]\n",
      "[2, 5]  ->  [7, 6]\n",
      "[2, 6]  ->  [9, 6]\n",
      "[2, 7]  ->  [1, 8]\n",
      "[2, 8]  ->  [3, 1]\n",
      "[2, 9]  ->  [5, 4]\n",
      "[3, 0]  ->  [2, 2]\n",
      "[3, 1]  ->  [5, 6]\n",
      "[3, 2]  ->  [3, 5]\n",
      "[3, 3]  ->  [0, 6]\n",
      "[3, 4]  ->  [9, 4]\n",
      "[3, 5]  ->  [8, 1]\n",
      "[3, 6]  ->  [0, 9]\n",
      "[3, 7]  ->  [2, 9]\n",
      "[3, 8]  ->  [4, 9]\n",
      "[3, 9]  ->  [6, 3]\n",
      "[4, 0]  ->  [3, 3]\n",
      "[4, 1]  ->  [6, 5]\n",
      "[4, 2]  ->  [4, 3]\n",
      "[4, 3]  ->  [1, 4]\n",
      "[4, 4]  ->  [0, 7]\n",
      "[4, 5]  ->  [9, 5]\n",
      "[4, 6]  ->  [1, 7]\n",
      "[4, 7]  ->  [3, 0]\n",
      "[4, 8]  ->  [5, 3]\n",
      "[4, 9]  ->  [7, 0]\n",
      "[5, 0]  ->  [4, 1]\n",
      "[5, 1]  ->  [7, 2]\n",
      "[5, 2]  ->  [5, 7]\n",
      "[5, 3]  ->  [2, 5]\n",
      "[5, 4]  ->  [1, 5]\n",
      "[5, 5]  ->  [0, 8]\n",
      "[5, 6]  ->  [2, 8]\n",
      "[5, 7]  ->  [4, 8]\n",
      "[5, 8]  ->  [6, 2]\n",
      "[5, 9]  ->  [8, 5]\n",
      "[6, 0]  ->  [5, 5]\n",
      "[6, 1]  ->  [8, 7]\n",
      "[6, 2]  ->  [6, 6]\n",
      "[6, 3]  ->  [3, 6]\n",
      "[6, 4]  ->  [2, 6]\n",
      "[6, 5]  ->  [1, 6]\n",
      "[6, 6]  ->  [3, 9]\n",
      "[6, 7]  ->  [5, 2]\n",
      "[6, 8]  ->  [7, 9]\n",
      "[6, 9]  ->  [9, 9]\n",
      "[7, 0]  ->  [6, 4]\n",
      "[7, 1]  ->  [9, 1]\n",
      "[7, 2]  ->  [7, 3]\n",
      "[7, 3]  ->  [4, 4]\n",
      "[7, 4]  ->  [3, 7]\n",
      "[7, 5]  ->  [2, 7]\n",
      "[7, 6]  ->  [4, 7]\n",
      "[7, 7]  ->  [6, 1]\n",
      "[7, 8]  ->  [8, 4]\n",
      "[7, 9]  ->  [0, 2]\n",
      "[8, 0]  ->  [7, 1]\n",
      "[8, 1]  ->  [0, 4]\n",
      "[8, 2]  ->  [8, 8]\n",
      "[8, 3]  ->  [5, 8]\n",
      "[8, 4]  ->  [4, 5]\n",
      "[8, 5]  ->  [3, 8]\n",
      "[8, 6]  ->  [5, 1]\n",
      "[8, 7]  ->  [7, 8]\n",
      "[8, 8]  ->  [9, 8]\n",
      "[8, 9]  ->  [1, 0]\n",
      "[9, 0]  ->  [8, 6]\n",
      "[9, 1]  ->  [1, 2]\n",
      "[9, 2]  ->  [9, 2]\n",
      "[9, 3]  ->  [6, 7]\n",
      "[9, 4]  ->  [5, 9]\n",
      "[9, 5]  ->  [4, 6]\n",
      "[9, 6]  ->  [6, 0]\n",
      "[9, 7]  ->  [8, 3]\n"
     ]
    }
   ],
   "source": [
    "n = 10\n",
    "\n",
    "tag = \"asdefghi\"\n",
    "\n",
    "c = Riffpe(n, 2)\n",
    "\n",
    "for x in range(n**2 - 2):\n",
    "    m = [x // n, x % n]\n",
    "    enc = c.round(key, tag, 0, m)\n",
    "    print(m, \" -> \", enc)"
   ]
  },
  {
   "cell_type": "code",
   "execution_count": null,
   "metadata": {},
   "outputs": [],
   "source": []
  }
 ],
 "metadata": {
  "kernelspec": {
   "display_name": "Python 3",
   "language": "python",
   "name": "python3"
  },
  "language_info": {
   "codemirror_mode": {
    "name": "ipython",
    "version": 3
   },
   "file_extension": ".py",
   "mimetype": "text/x-python",
   "name": "python",
   "nbconvert_exporter": "python",
   "pygments_lexer": "ipython3",
   "version": "3.8.3"
  }
 },
 "nbformat": 4,
 "nbformat_minor": 4
}
