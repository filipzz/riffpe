{
 "cells": [
  {
   "cell_type": "code",
   "execution_count": 22,
   "metadata": {},
   "outputs": [],
   "source": [
    "from riffpe.riffpe import Riffpe\n",
    "from riffpe.perm import Perm\n",
    "from riffpe.test_riffpe import *\n",
    "from Crypto.Util.Padding import pad"
   ]
  },
  {
   "cell_type": "markdown",
   "metadata": {},
   "source": [
    "Set parameters:\n",
    "\n",
    "- **n** is the base $Z_n$\n",
    "- **l** is the length of a message\n",
    "\n",
    "Now $m \\in \\mathcal{M} =  (Z_n)^l$"
   ]
  },
  {
   "cell_type": "code",
   "execution_count": 23,
   "metadata": {},
   "outputs": [],
   "source": [
    "n = 1000\n",
    "l = 2\n",
    "key = b'\\xefTT\\xc89\\xd0ap\\xd7M\\x97V\\xd3\\x82h\\xeb'\n",
    "tag = \"abcdab\""
   ]
  },
  {
   "cell_type": "markdown",
   "metadata": {},
   "source": [
    "Instantiate\n",
    "\n",
    "Generate a random messsage from $\\mathcal{M}$"
   ]
  },
  {
   "cell_type": "code",
   "execution_count": 24,
   "metadata": {},
   "outputs": [
    {
     "name": "stdout",
     "output_type": "stream",
     "text": [
      "[865, 719]\n"
     ]
    }
   ],
   "source": [
    "c = Riffpe(n, l, key, tag)\n",
    "\n",
    "message = random_message(n, l)\n",
    "\n",
    "print(message)"
   ]
  },
  {
   "cell_type": "markdown",
   "metadata": {},
   "source": [
    "Encrypt & decrypt generated message & test if decryption is correct"
   ]
  },
  {
   "cell_type": "code",
   "execution_count": 25,
   "metadata": {},
   "outputs": [
    {
     "name": "stdout",
     "output_type": "stream",
     "text": [
      "[865, 719]\n",
      "[143, 193]\n",
      "[865, 719]\n"
     ]
    }
   ],
   "source": [
    "enc = c.enc(message)\n",
    "\n",
    "dec = c.dec(enc)\n",
    "\n",
    "print(\"%s\\n%s\\n%s\" % (message, enc, dec))\n",
    "\n",
    "#print(message == dec)"
   ]
  },
  {
   "cell_type": "code",
   "execution_count": 5,
   "metadata": {},
   "outputs": [
    {
     "name": "stdout",
     "output_type": "stream",
     "text": [
      "Generated parameters: 11 6\n",
      "Message:\t[10, 6, 10, 2, 0, 6]\n",
      "Decrypted:\t[10, 6, 10, 2, 0, 6]\n"
     ]
    }
   ],
   "source": [
    "test_enc() # generates a random instance & message and & encrypts & decrypts"
   ]
  },
  {
   "cell_type": "code",
   "execution_count": 6,
   "metadata": {},
   "outputs": [
    {
     "data": {
      "text/plain": [
       "[4, 1, 2, 8]"
      ]
     },
     "execution_count": 6,
     "metadata": {},
     "output_type": "execute_result"
    }
   ],
   "source": [
    "random_message(10, 4)"
   ]
  },
  {
   "cell_type": "code",
   "execution_count": 8,
   "metadata": {},
   "outputs": [
    {
     "name": "stdout",
     "output_type": "stream",
     "text": [
      "Generated parameters: 16 9\n",
      "Message:\t[12, 14, 1, 0, 15, 2, 15, 11, 5]\n",
      "Decrypted:\t[12, 14, 1, 0, 15, 2, 15, 11, 5]\n"
     ]
    }
   ],
   "source": [
    "test_enc()"
   ]
  },
  {
   "cell_type": "code",
   "execution_count": 14,
   "metadata": {},
   "outputs": [],
   "source": [
    "#n = 4\n",
    "\n",
    "#tag = \"asdefghi\"\n",
    "#key = get_random_bytes(16)\n",
    "\n",
    "#c = Riffpe(n, 2, key, tag)\n",
    "\n",
    "#for x in range(n**2 - 2):\n",
    "#    m = [x // n, x % n]\n",
    "#    enc = c.round(key, tag, 0, m)\n",
    "#    print(m, \" -> \", enc)"
   ]
  },
  {
   "cell_type": "code",
   "execution_count": null,
   "metadata": {},
   "outputs": [],
   "source": [
    "### n = 4\n",
    "\n",
    "tag = \"asdefgh\"\n",
    "\n",
    "c = Riffpe(n, 2)\n",
    "\n",
    "for x in range(n**2 - 2):\n",
    "    m = [x // n, x % n]\n",
    "    enc = c.round(key, tag, 0, m)\n",
    "    print(m, \" -> \", enc)"
   ]
  },
  {
   "cell_type": "code",
   "execution_count": null,
   "metadata": {},
   "outputs": [],
   "source": [
    "alpha = Perm(10, key)"
   ]
  },
  {
   "cell_type": "code",
   "execution_count": null,
   "metadata": {},
   "outputs": [],
   "source": [
    "for x in range(10):\n",
    "    y = alpha.perm(pad((str(10) + \"_\" + str(2) + \"^\" + tag).encode(), 16), x, 0)\n",
    "    print(y)"
   ]
  },
  {
   "cell_type": "code",
   "execution_count": null,
   "metadata": {},
   "outputs": [],
   "source": []
  },
  {
   "cell_type": "code",
   "execution_count": null,
   "metadata": {},
   "outputs": [],
   "source": []
  }
 ],
 "metadata": {
  "kernelspec": {
   "display_name": "Python 3",
   "language": "python",
   "name": "python3"
  },
  "language_info": {
   "codemirror_mode": {
    "name": "ipython",
    "version": 3
   },
   "file_extension": ".py",
   "mimetype": "text/x-python",
   "name": "python",
   "nbconvert_exporter": "python",
   "pygments_lexer": "ipython3",
   "version": "3.8.10"
  }
 },
 "nbformat": 4,
 "nbformat_minor": 4
}
