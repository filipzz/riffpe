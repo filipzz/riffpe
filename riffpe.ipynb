{
 "cells": [
  {
   "cell_type": "code",
   "execution_count": 21,
   "metadata": {},
   "outputs": [],
   "source": [
    "from riffpe.riffpe import Riffpe\n",
    "from riffpe.test_riffpe import *"
   ]
  },
  {
   "cell_type": "markdown",
   "metadata": {},
   "source": [
    "Set parameters:\n",
    "\n",
    "- **n** is the base $Z_n$\n",
    "- **l** is the length of a message\n",
    "\n",
    "Now $m \\in \\mathcal{M} =  (Z_n)^l$"
   ]
  },
  {
   "cell_type": "code",
   "execution_count": 27,
   "metadata": {},
   "outputs": [],
   "source": [
    "n = 12\n",
    "l = 8\n",
    "key = \"abcabc\"\n",
    "tag = \"abcdabcd\""
   ]
  },
  {
   "cell_type": "markdown",
   "metadata": {},
   "source": [
    "Instantiate\n",
    "\n",
    "Generate a random messsage from $\\mathcal{M}$"
   ]
  },
  {
   "cell_type": "code",
   "execution_count": 28,
   "metadata": {},
   "outputs": [],
   "source": [
    "c = Riffpe(n, l)\n",
    "\n",
    "message = random_message(n, l)"
   ]
  },
  {
   "cell_type": "markdown",
   "metadata": {},
   "source": [
    "Encrypt & decrypt generated message & test if decryption is correct"
   ]
  },
  {
   "cell_type": "code",
   "execution_count": 29,
   "metadata": {},
   "outputs": [
    {
     "name": "stdout",
     "output_type": "stream",
     "text": [
      "[3, 5, 6, 4, 4, 8, 0, 1]\n",
      "[9, 11, 5, 5, 7, 10, 5, 8]\n",
      "[3, 5, 6, 4, 4, 8, 0, 1]\n",
      "True\n"
     ]
    }
   ],
   "source": [
    "enc = c.enc(key, tag, message)\n",
    "\n",
    "dec = c.dec(key, tag, enc)\n",
    "\n",
    "print(\"%s\\n%s\\n%s\" % (message, enc, dec))\n",
    "\n",
    "print(message == dec)"
   ]
  },
  {
   "cell_type": "code",
   "execution_count": 30,
   "metadata": {},
   "outputs": [
    {
     "name": "stdout",
     "output_type": "stream",
     "text": [
      "Generated parameters: 46 7\n",
      "Message:\t[22, 4, 10, 9, 15, 27, 22]\n",
      "Decrypted:\t[22, 4, 10, 9, 15, 27, 22]\n"
     ]
    }
   ],
   "source": [
    "test_enc() # generates a random instance & message and & encrypts & decrypts"
   ]
  },
  {
   "cell_type": "code",
   "execution_count": 163,
   "metadata": {},
   "outputs": [
    {
     "data": {
      "text/plain": [
       "[8, 2, 9, 5]"
      ]
     },
     "execution_count": 163,
     "metadata": {},
     "output_type": "execute_result"
    }
   ],
   "source": [
    "random_message(10, 4)"
   ]
  },
  {
   "cell_type": "code",
   "execution_count": 164,
   "metadata": {},
   "outputs": [
    {
     "name": "stdout",
     "output_type": "stream",
     "text": [
      "Generated parameters: 71 3\n",
      "Testing for message: [21, 32, 68]\n",
      "21 50 21\n",
      "32 13 32\n",
      "68 25 68\n"
     ]
    }
   ],
   "source": [
    "test_rs()"
   ]
  },
  {
   "cell_type": "code",
   "execution_count": null,
   "metadata": {},
   "outputs": [],
   "source": []
  }
 ],
 "metadata": {
  "kernelspec": {
   "display_name": "Python 3",
   "language": "python",
   "name": "python3"
  },
  "language_info": {
   "codemirror_mode": {
    "name": "ipython",
    "version": 3
   },
   "file_extension": ".py",
   "mimetype": "text/x-python",
   "name": "python",
   "nbconvert_exporter": "python",
   "pygments_lexer": "ipython3",
   "version": "3.8.3"
  }
 },
 "nbformat": 4,
 "nbformat_minor": 4
}
