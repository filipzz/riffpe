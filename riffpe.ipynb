{
 "cells": [
  {
   "cell_type": "code",
   "execution_count": 1,
   "metadata": {},
   "outputs": [],
   "source": [
    "from riffpe.riffpe import Riffpe\n",
    "from riffpe.test_riffpe import *"
   ]
  },
  {
   "cell_type": "markdown",
   "metadata": {},
   "source": [
    "Set parameters:\n",
    "\n",
    "- **n** is the base $Z_n$\n",
    "- **l** is the length of a message\n",
    "\n",
    "Now $m \\in \\mathcal{M} =  (Z_n)^l$"
   ]
  },
  {
   "cell_type": "code",
   "execution_count": 24,
   "metadata": {},
   "outputs": [],
   "source": [
    "n = 10\n",
    "l = 2\n",
    "key = \"abcabc\"\n",
    "tag = \"abcdabcd\""
   ]
  },
  {
   "cell_type": "markdown",
   "metadata": {},
   "source": [
    "Instantiate\n",
    "\n",
    "Generate a random messsage from $\\mathcal{M}$"
   ]
  },
  {
   "cell_type": "code",
   "execution_count": 3,
   "metadata": {},
   "outputs": [],
   "source": [
    "c = Riffpe(n, l)\n",
    "\n",
    "message = random_message(n, l)"
   ]
  },
  {
   "cell_type": "markdown",
   "metadata": {},
   "source": [
    "Encrypt & decrypt generated message & test if decryption is correct"
   ]
  },
  {
   "cell_type": "code",
   "execution_count": 4,
   "metadata": {},
   "outputs": [
    {
     "name": "stdout",
     "output_type": "stream",
     "text": [
      "[4, 1]\n",
      "[8, 7]\n",
      "[4, 1]\n",
      "True\n"
     ]
    }
   ],
   "source": [
    "enc = c.enc(key, tag, message)\n",
    "\n",
    "dec = c.dec(key, tag, enc)\n",
    "\n",
    "print(\"%s\\n%s\\n%s\" % (message, enc, dec))\n",
    "\n",
    "print(message == dec)"
   ]
  },
  {
   "cell_type": "code",
   "execution_count": 9,
   "metadata": {},
   "outputs": [
    {
     "name": "stdout",
     "output_type": "stream",
     "text": [
      "Generated parameters: 20 9\n",
      "Message:\t[15, 14, 12, 9, 1, 7, 2, 17, 2]\n",
      "Decrypted:\t[15, 14, 12, 9, 1, 7, 2, 17, 2]\n"
     ]
    }
   ],
   "source": [
    "test_enc() # generates a random instance & message and & encrypts & decrypts"
   ]
  },
  {
   "cell_type": "code",
   "execution_count": 10,
   "metadata": {},
   "outputs": [
    {
     "data": {
      "text/plain": [
       "[8, 9, 6, 3]"
      ]
     },
     "execution_count": 10,
     "metadata": {},
     "output_type": "execute_result"
    }
   ],
   "source": [
    "random_message(10, 4)"
   ]
  },
  {
   "cell_type": "code",
   "execution_count": 11,
   "metadata": {},
   "outputs": [
    {
     "name": "stdout",
     "output_type": "stream",
     "text": [
      "Generated parameters: 9986 9\n",
      "Testing for message: [51, 4393, 6171, 9491, 237, 5679, 7343, 9200, 5088]\n",
      "51 3288 51\n",
      "4393 5228 4393\n",
      "6171 8955 6171\n",
      "9491 3895 9491\n",
      "237 4674 237\n",
      "5679 9862 5679\n",
      "7343 5165 7343\n",
      "9200 7636 9200\n",
      "5088 685 5088\n"
     ]
    }
   ],
   "source": [
    "test_rs()"
   ]
  },
  {
   "cell_type": "code",
   "execution_count": 35,
   "metadata": {},
   "outputs": [
    {
     "name": "stdout",
     "output_type": "stream",
     "text": [
      "[0, 0]  ->  [3, 3]\n",
      "[0, 1]  ->  [2, 3]\n",
      "[0, 2]  ->  [2, 0]\n",
      "[0, 3]  ->  [1, 0]\n",
      "[1, 0]  ->  [0, 3]\n",
      "[1, 1]  ->  [3, 0]\n",
      "[1, 2]  ->  [3, 1]\n",
      "[1, 3]  ->  [2, 1]\n",
      "[2, 0]  ->  [1, 1]\n",
      "[2, 1]  ->  [0, 0]\n",
      "[2, 2]  ->  [0, 1]\n",
      "[2, 3]  ->  [3, 2]\n",
      "[3, 0]  ->  [2, 2]\n",
      "[3, 1]  ->  [1, 2]\n"
     ]
    }
   ],
   "source": [
    "n = 4\n",
    "\n",
    "tag = \"asdefghi\"\n",
    "\n",
    "c = Riffpe(n, 2)\n",
    "\n",
    "for x in range(n**2 - 2):\n",
    "    m = [x // n, x % n]\n",
    "    enc = c.round(key, tag, 0, m)\n",
    "    print(m, \" -> \", enc)"
   ]
  },
  {
   "cell_type": "code",
   "execution_count": 37,
   "metadata": {},
   "outputs": [
    {
     "name": "stdout",
     "output_type": "stream",
     "text": [
      "[0, 0]  ->  [2, 3]\n",
      "[0, 1]  ->  [0, 2]\n",
      "[0, 2]  ->  [2, 1]\n",
      "[0, 3]  ->  [1, 0]\n",
      "[1, 0]  ->  [3, 3]\n",
      "[1, 1]  ->  [1, 2]\n",
      "[1, 2]  ->  [3, 1]\n",
      "[1, 3]  ->  [2, 2]\n",
      "[2, 0]  ->  [0, 1]\n",
      "[2, 1]  ->  [2, 0]\n",
      "[2, 2]  ->  [0, 3]\n",
      "[2, 3]  ->  [3, 2]\n",
      "[3, 0]  ->  [1, 1]\n",
      "[3, 1]  ->  [3, 0]\n"
     ]
    }
   ],
   "source": [
    "n = 4\n",
    "\n",
    "tag = \"asdefgh\"\n",
    "\n",
    "c = Riffpe(n, 2)\n",
    "\n",
    "for x in range(n**2 - 2):\n",
    "    m = [x // n, x % n]\n",
    "    enc = c.round(key, tag, 0, m)\n",
    "    print(m, \" -> \", enc)"
   ]
  },
  {
   "cell_type": "code",
   "execution_count": null,
   "metadata": {},
   "outputs": [],
   "source": []
  }
 ],
 "metadata": {
  "kernelspec": {
   "display_name": "Python 3",
   "language": "python",
   "name": "python3"
  },
  "language_info": {
   "codemirror_mode": {
    "name": "ipython",
    "version": 3
   },
   "file_extension": ".py",
   "mimetype": "text/x-python",
   "name": "python",
   "nbconvert_exporter": "python",
   "pygments_lexer": "ipython3",
   "version": "3.8.3"
  }
 },
 "nbformat": 4,
 "nbformat_minor": 4
}
