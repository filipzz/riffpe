{
 "cells": [
  {
   "cell_type": "code",
   "execution_count": null,
   "metadata": {},
   "outputs": [],
   "source": [
    "from riffpe import Riffpe\n",
    "from riffpe.test_riffpe import *\n",
    "from Crypto.Util.Padding import pad"
   ]
  },
  {
   "cell_type": "markdown",
   "metadata": {},
   "source": [
    "Set parameters:\n",
    "\n",
    "- **n** is the base $Z_n$\n",
    "- **l** is the length of a message\n",
    "\n",
    "Now $m \\in \\mathcal{M} =  (Z_n)^l$"
   ]
  },
  {
   "cell_type": "code",
   "execution_count": null,
   "metadata": {},
   "outputs": [],
   "source": [
    "n = 1000\n",
    "l = 2\n",
    "key = b'\\xefTT\\xc89\\xd0ap\\xd7M\\x97V\\xd3\\x82h\\xeb'\n",
    "tag = b\"abcdab\""
   ]
  },
  {
   "cell_type": "markdown",
   "metadata": {},
   "source": [
    "Instantiate\n",
    "\n",
    "Generate a random messsage from $\\mathcal{M}$"
   ]
  },
  {
   "cell_type": "code",
   "execution_count": null,
   "metadata": {},
   "outputs": [],
   "source": [
    "c = Riffpe(n, l, key, tag)\n",
    "\n",
    "message = random_message(n, l)\n",
    "\n",
    "print(message)"
   ]
  },
  {
   "cell_type": "markdown",
   "metadata": {},
   "source": [
    "Encrypt & decrypt generated message & test if decryption is correct"
   ]
  },
  {
   "cell_type": "code",
   "execution_count": null,
   "metadata": {},
   "outputs": [],
   "source": [
    "enc = c.enc(message)\n",
    "\n",
    "dec = c.dec(enc)\n",
    "\n",
    "print(\"%s\\n%s\\n%s\" % (message, enc, dec))\n",
    "\n",
    "#print(message == dec)"
   ]
  },
  {
   "cell_type": "code",
   "execution_count": null,
   "metadata": {},
   "outputs": [],
   "source": [
    "test_enc() # generates a random instance & message and & encrypts & decrypts"
   ]
  },
  {
   "cell_type": "code",
   "execution_count": null,
   "metadata": {},
   "outputs": [],
   "source": [
    "random_message(10, 4)"
   ]
  },
  {
   "cell_type": "code",
   "execution_count": null,
   "metadata": {},
   "outputs": [],
   "source": [
    "test_enc()"
   ]
  },
  {
   "cell_type": "code",
   "execution_count": null,
   "metadata": {},
   "outputs": [],
   "source": [
    "#n = 4\n",
    "\n",
    "#tag = b\"asdefghi\"\n",
    "#key = get_random_bytes(16)\n",
    "\n",
    "#c = Riffpe(n, 2, key, tag)\n",
    "\n",
    "#for x in range(n**2 - 2):\n",
    "#    m = [x // n, x % n]\n",
    "#    enc = c.round(key, tag, 0, m)\n",
    "#    print(m, \" -> \", enc)"
   ]
  },
  {
   "cell_type": "code",
   "execution_count": null,
   "metadata": {},
   "outputs": [],
   "source": [
    "# n = 4\n",
    "\n",
    "# tag = b\"asdefgh\"\n",
    "\n",
    "# c = Riffpe(n, 2)\n",
    "\n",
    "# for x in range(n**2 - 2):\n",
    "#     m = [x // n, x % n]\n",
    "#     enc = c.round(key, tag, 0, m)\n",
    "#     print(m, \" -> \", enc)"
   ]
  },
  {
   "cell_type": "code",
   "execution_count": null,
   "metadata": {},
   "outputs": [],
   "source": []
  },
  {
   "cell_type": "code",
   "execution_count": null,
   "metadata": {},
   "outputs": [],
   "source": []
  }
 ],
 "metadata": {
  "interpreter": {
   "hash": "178d7919b12d63c134a7dd40cce8dbd5ebb1525c9d02920bda47cc37dd219ef4"
  },
  "kernelspec": {
   "display_name": "Python 3.8.10 ('venv': venv)",
   "language": "python",
   "name": "python3"
  },
  "language_info": {
   "codemirror_mode": {
    "name": "ipython",
    "version": 3
   },
   "file_extension": ".py",
   "mimetype": "text/x-python",
   "name": "python",
   "nbconvert_exporter": "python",
   "pygments_lexer": "ipython3",
   "version": "3.8.10"
  }
 },
 "nbformat": 4,
 "nbformat_minor": 4
}
