{
 "cells": [
  {
   "cell_type": "code",
   "execution_count": 1,
   "metadata": {},
   "outputs": [],
   "source": [
    "from riffpe import Riffpe\n",
    "import random"
   ]
  },
  {
   "cell_type": "markdown",
   "metadata": {},
   "source": [
    "Set parameters:\n",
    "\n",
    "- **n** is the base $Z_n$\n",
    "- **l** is the length of a message\n",
    "\n",
    "Now $m \\in \\mathcal{M} =  (Z_n)^l$"
   ]
  },
  {
   "cell_type": "code",
   "execution_count": 2,
   "metadata": {},
   "outputs": [],
   "source": [
    "n = 1000\n",
    "l = 2\n",
    "key = b'\\xefTT\\xc89\\xd0ap\\xd7M\\x97V\\xd3\\x82h\\xeb'\n",
    "tag = b\"abcdab\""
   ]
  },
  {
   "cell_type": "markdown",
   "metadata": {},
   "source": [
    "Instantiate\n",
    "\n",
    "Generate a random messsage from $\\mathcal{M}$"
   ]
  },
  {
   "cell_type": "code",
   "execution_count": 3,
   "metadata": {},
   "outputs": [
    {
     "name": "stdout",
     "output_type": "stream",
     "text": [
      "AES Engine x86-aes-ni (GNU v. 9.4.0)\n"
     ]
    },
    {
     "name": "stderr",
     "output_type": "stream",
     "text": [
      "Test 1 \n"
     ]
    }
   ],
   "source": [
    "c = Riffpe(n, l, key, tag)\n",
    "print(c._aes_engine_id())"
   ]
  },
  {
   "cell_type": "code",
   "execution_count": 4,
   "metadata": {},
   "outputs": [
    {
     "name": "stdout",
     "output_type": "stream",
     "text": [
      "[325, 273]\n"
     ]
    }
   ],
   "source": [
    "message = random.choices(range(n), k=l)\n",
    "print(message)"
   ]
  },
  {
   "cell_type": "markdown",
   "metadata": {},
   "source": [
    "Encrypt & decrypt generated message & test if decryption is correct"
   ]
  },
  {
   "cell_type": "code",
   "execution_count": 5,
   "metadata": {},
   "outputs": [
    {
     "name": "stdout",
     "output_type": "stream",
     "text": [
      "[325, 273] -> [31, 506] -> [325, 273]\n"
     ]
    }
   ],
   "source": [
    "enc = c.enc(message)\n",
    "dec = c.dec(enc)\n",
    "\n",
    "print(f\"{message} -> {enc} -> {dec}\")"
   ]
  },
  {
   "cell_type": "code",
   "execution_count": null,
   "metadata": {},
   "outputs": [],
   "source": []
  }
 ],
 "metadata": {
  "interpreter": {
   "hash": "178d7919b12d63c134a7dd40cce8dbd5ebb1525c9d02920bda47cc37dd219ef4"
  },
  "kernelspec": {
   "display_name": "Python 3.8.10 ('venv': venv)",
   "language": "python",
   "name": "python3"
  },
  "language_info": {
   "codemirror_mode": {
    "name": "ipython",
    "version": 3
   },
   "file_extension": ".py",
   "mimetype": "text/x-python",
   "name": "python",
   "nbconvert_exporter": "python",
   "pygments_lexer": "ipython3",
   "version": "3.8.10"
  }
 },
 "nbformat": 4,
 "nbformat_minor": 4
}
